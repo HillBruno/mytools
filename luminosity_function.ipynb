{
 "cells": [
  {
   "cell_type": "markdown",
   "metadata": {
    "collapsed": true
   },
   "source": [
    "# Luminosity Function Fit"
   ]
  },
  {
   "cell_type": "code",
   "execution_count": null,
   "metadata": {
    "collapsed": true
   },
   "outputs": [],
   "source": [
    "%matplotlib inline\n",
    "import numpy as np\n",
    "import matplotlib.pyplot as plt\n",
    "from scipy.optimize import curve_fit\n",
    "from astropy.table import Table"
   ]
  },
  {
   "cell_type": "code",
   "execution_count": 2,
   "metadata": {
    "collapsed": false
   },
   "outputs": [
    {
     "data": {
      "text/plain": [
       "(array([-22.96, -22.84, -22.73, -22.64, -22.54, -22.43, -22.34, -22.24,\n",
       "        -22.14, -22.04, -21.94, -21.85, -21.75, -21.64, -21.53]),\n",
       " array([  1.25000000e-05,   1.63000000e-05,   2.35000000e-05,\n",
       "          3.31000000e-05,   4.31000000e-05,   6.61000000e-05,\n",
       "          8.25000000e-05,   1.10000000e-04,   1.49000000e-04,\n",
       "          1.93000000e-04,   2.32000000e-04,   2.84000000e-04,\n",
       "          3.62000000e-04,   4.17000000e-04,   5.11000000e-04]))"
      ]
     },
     "execution_count": 2,
     "metadata": {},
     "output_type": "execute_result"
    }
   ],
   "source": [
    "# Reading Table\n",
    "lf = Table.read('lumfunc.csv', format='ascii')\n",
    "m, phi = lf['col1'].data, lf['col2'].data\n",
    "m, phi"
   ]
  },
  {
   "cell_type": "code",
   "execution_count": 3,
   "metadata": {
    "collapsed": false
   },
   "outputs": [
    {
     "data": {
      "text/plain": [
       "(1e-06, 0.001)"
      ]
     },
     "execution_count": 3,
     "metadata": {},
     "output_type": "execute_result"
    },
    {
     "data": {
      "image/png": "[encoded data removed]",
      "text/plain": [
       "<matplotlib.figure.Figure at 0x7ff328d901d0>"
      ]
     },
     "metadata": {},
     "output_type": "display_data"
    }
   ],
   "source": [
    "plt.semilogy(m, phi)\n",
    "plt.xlim(-21.5, -23)\n",
    "plt.ylim(1e-6, 1e-3)"
   ]
  },
  {
   "cell_type": "code",
   "execution_count": 4,
   "metadata": {
    "collapsed": true
   },
   "outputs": [],
   "source": [
    "def lumfunc(x, phis, alphas, M):\n",
    "    return 0.4*np.log(10.)*phis*((10.**(0.4*(M-x)))**(alphas+1.))*(np.exp(-10.**(0.4*(M-x))))"
   ]
  },
  {
   "cell_type": "code",
   "execution_count": 5,
   "metadata": {
    "collapsed": false
   },
   "outputs": [
    {
     "name": "stdout",
     "output_type": "stream",
     "text": [
      "[  2.39179983e-03  -1.39253659e+00  -2.12074683e+01]\n"
     ]
    }
   ],
   "source": [
    "p0 = [1.2e-2, -1.5, -20.5]\n",
    "lfcoef, lfcov = curve_fit(lumfunc, m, phi, p0=p0)\n",
    "print lfcoef"
   ]
  },
  {
   "cell_type": "code",
   "execution_count": 6,
   "metadata": {
    "collapsed": false
   },
   "outputs": [
    {
     "data": {
      "text/plain": [
       "(1e-06, 0.001)"
      ]
     },
     "execution_count": 6,
     "metadata": {},
     "output_type": "execute_result"
    },
    {
     "data": {
      "image/png": "[encoded data removed]",
      "text/plain": [
       "<matplotlib.figure.Figure at 0x7ff323871390>"
      ]
     },
     "metadata": {},
     "output_type": "display_data"
    }
   ],
   "source": [
    "plt.semilogy(lf['col1'],lf['col2'], 'bo-')\n",
    "mabs = np.linspace(-21.5, -23, 100)\n",
    "#plt.semilogy(mabs, lumfunc(mabs, 1.2e-2, -1.5, -20.5))\n",
    "plt.semilogy(mabs, lumfunc(mabs, lfcoef[0], lfcoef[1], lfcoef[2]), 'r--')\n",
    "plt.xlim(-21.5, -23)\n",
    "plt.ylim(1e-6, 1e-3)"
   ]
  },
  {
   "cell_type": "code",
   "execution_count": null,
   "metadata": {
    "collapsed": true
   },
   "outputs": [],
   "source": []
  }
 ],
 "metadata": {
  "kernelspec": {
   "display_name": "Python 2",
   "language": "python",
   "name": "python2"
  },
  "language_info": {
   "codemirror_mode": {
    "name": "ipython",
    "version": 2
   },
   "file_extension": ".py",
   "mimetype": "text/x-python",
   "name": "python",
   "nbconvert_exporter": "python",
   "pygments_lexer": "ipython2",
   "version": "2.7.12"
  }
 },
 "nbformat": 4,
 "nbformat_minor": 0
}
